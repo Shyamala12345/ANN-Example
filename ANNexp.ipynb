{
  "nbformat": 4,
  "nbformat_minor": 0,
  "metadata": {
    "colab": {
      "provenance": [],
      "collapsed_sections": []
    },
    "kernelspec": {
      "name": "python3",
      "display_name": "Python 3"
    },
    "language_info": {
      "name": "python"
    }
  },
  "cells": [
    {
      "cell_type": "code",
      "execution_count": 5,
      "metadata": {
        "id": "fGQtkC5C4mkv"
      },
      "outputs": [],
      "source": [
        "import numpy as np #Importing Numpy for Numerical Operations\n",
        "import pandas as pd #Importing Pandas for Data visualization and Data Analysis\n",
        "import tensorflow as tf #Importing TensorFlow function"
      ]
    },
    {
      "cell_type": "code",
      "source": [
        "tf.__version__"
      ],
      "metadata": {
        "colab": {
          "base_uri": "https://localhost:8080/",
          "height": 35
        },
        "id": "PXkDBlL45bbR",
        "outputId": "2a3adebe-2365-4ebc-f304-744ad50fef8f"
      },
      "execution_count": 6,
      "outputs": [
        {
          "output_type": "execute_result",
          "data": {
            "text/plain": [
              "'2.8.2'"
            ],
            "application/vnd.google.colaboratory.intrinsic+json": {
              "type": "string"
            }
          },
          "metadata": {},
          "execution_count": 6
        }
      ]
    },
    {
      "cell_type": "code",
      "source": [
        "dataset = pd.read_csv('/content/drive/MyDrive/DS/vgsales1.csv') # Reading dataset from Churn_modelling.csv; Containing 10000 rows and 14 columns \n",
        "x = dataset.iloc[:, 3:-1].values # Assigning 'x' data from churn modelling dataset as inputs; from the dataset all the rows and columns from 3 to 12 \n",
        "y = dataset.iloc[:, -1].values # Last column of dataset is declared as 'y' for output"
      ],
      "metadata": {
        "id": "zEZtqah05fep"
      },
      "execution_count": 33,
      "outputs": []
    },
    {
      "cell_type": "code",
      "source": [
        "print(x[:5, :])"
      ],
      "metadata": {
        "colab": {
          "base_uri": "https://localhost:8080/"
        },
        "id": "8k2AoxF55lK5",
        "outputId": "eb862eb5-51fb-46ba-c694-7042ee837c8c"
      },
      "execution_count": 34,
      "outputs": [
        {
          "output_type": "stream",
          "name": "stdout",
          "text": [
            "[[2006.0 'Sports' 'Nintendo' 41.49 29.02 3.77 8.46 82.74 1.0 1.0 1.0\n",
            "  101348.88]\n",
            " [1985.0 'Platform' 'Nintendo' 29.08 3.58 6.81 0.77 40.24 1.0 0.0 1.0\n",
            "  112542.58]\n",
            " [2008.0 'Racing' 'Nintendo' 15.85 12.88 3.79 3.31 35.82 3.0 1.0 0.0\n",
            "  113931.57]\n",
            " [2009.0 'Sports' 'Nintendo' 15.75 11.01 3.28 2.96 33.0 2.0 0.0 0.0\n",
            "  93826.63]\n",
            " [1996.0 'Role-Playing' 'Nintendo' 11.27 8.89 10.22 1.0 31.37 1.0 1.0 1.0\n",
            "  79084.1]]\n"
          ]
        }
      ]
    },
    {
      "cell_type": "code",
      "source": [
        "print(x[:1, :]) # To display first row from 'x' data"
      ],
      "metadata": {
        "colab": {
          "base_uri": "https://localhost:8080/"
        },
        "id": "qujpENoN7ph8",
        "outputId": "735d2a13-1092-4942-d21e-aef49844680b"
      },
      "execution_count": 35,
      "outputs": [
        {
          "output_type": "stream",
          "name": "stdout",
          "text": [
            "[[2006.0 'Sports' 'Nintendo' 41.49 29.02 3.77 8.46 82.74 1.0 1.0 1.0\n",
            "  101348.88]]\n"
          ]
        }
      ]
    },
    {
      "cell_type": "code",
      "source": [
        "print(y) # Display 'y' data"
      ],
      "metadata": {
        "colab": {
          "base_uri": "https://localhost:8080/"
        },
        "id": "mhSL0tDY7tmG",
        "outputId": "ba89418c-d369-418b-e6a6-2db1f5d736d5"
      },
      "execution_count": 36,
      "outputs": [
        {
          "output_type": "stream",
          "name": "stdout",
          "text": [
            "[ 1.  0.  1. ... nan nan nan]\n"
          ]
        }
      ]
    },
    {
      "cell_type": "code",
      "source": [
        "from sklearn.preprocessing import LabelEncoder # Importing LabelEncoder from sklearn.preprocessing for Encode target labels with value between 0 and n_classes-1\n",
        "le = LabelEncoder() # Declare 'le' variable for LabelEncoder() function\n",
        "x[:, 2] = le.fit_transform(x[:, 2]) # This line encode the column 2 in 'x' data as target values 0 & 1 for gender difference. Male - 1; Female - 0"
      ],
      "metadata": {
        "id": "cWcb3MN67wDs"
      },
      "execution_count": 37,
      "outputs": []
    },
    {
      "cell_type": "code",
      "source": [
        "print(x[:5, :])"
      ],
      "metadata": {
        "colab": {
          "base_uri": "https://localhost:8080/"
        },
        "id": "MVtOuXS274Tv",
        "outputId": "d20b94d0-20b1-41e5-8bf7-14201e524e82"
      },
      "execution_count": 38,
      "outputs": [
        {
          "output_type": "stream",
          "name": "stdout",
          "text": [
            "[[2006.0 'Sports' 359 41.49 29.02 3.77 8.46 82.74 1.0 1.0 1.0 101348.88]\n",
            " [1985.0 'Platform' 359 29.08 3.58 6.81 0.77 40.24 1.0 0.0 1.0 112542.58]\n",
            " [2008.0 'Racing' 359 15.85 12.88 3.79 3.31 35.82 3.0 1.0 0.0 113931.57]\n",
            " [2009.0 'Sports' 359 15.75 11.01 3.28 2.96 33.0 2.0 0.0 0.0 93826.63]\n",
            " [1996.0 'Role-Playing' 359 11.27 8.89 10.22 1.0 31.37 1.0 1.0 1.0\n",
            "  79084.1]]\n"
          ]
        }
      ]
    },
    {
      "cell_type": "code",
      "source": [
        "print(x[4:5, :])"
      ],
      "metadata": {
        "colab": {
          "base_uri": "https://localhost:8080/"
        },
        "id": "gG-HhAB377ov",
        "outputId": "7ef3b517-08b6-4fb7-aa14-b3fe93d7aeae"
      },
      "execution_count": 41,
      "outputs": [
        {
          "output_type": "stream",
          "name": "stdout",
          "text": [
            "[[1996.0 'Role-Playing' 359 11.27 8.89 10.22 1.0 31.37 1.0 1.0 1.0\n",
            "  79084.1]]\n"
          ]
        }
      ]
    },
    {
      "cell_type": "code",
      "source": [
        "from sklearn.compose import ColumnTransformer # Importing ColumnTransformer function from sklearn library\n",
        "from sklearn.preprocessing import OneHotEncoder #Import OneHotEncoder function for preprocessing from sklearn\n",
        "ct = ColumnTransformer(transformers=[('encoder', OneHotEncoder(), [1])], remainder = 'passthrough') # Transformer Name: encoder; OneHotEncoder constructor for 2nd column datas are transformed into estimator; Remainder:Without any changes pass the values.  \n",
        "X = np.array(ct.fit_transform(x)) # To fit and transform the dataset to label encode and one hot encode the column"
      ],
      "metadata": {
        "id": "6fj-QBpD8Big"
      },
      "execution_count": 16,
      "outputs": []
    },
    {
      "cell_type": "code",
      "source": [
        "print(X[:1,:])"
      ],
      "metadata": {
        "colab": {
          "base_uri": "https://localhost:8080/"
        },
        "id": "FGGf2dSG8Ez2",
        "outputId": "1e88ee65-be46-4b56-dd39-b44c84393a97"
      },
      "execution_count": 40,
      "outputs": [
        {
          "output_type": "stream",
          "name": "stdout",
          "text": [
            "[[0.0 0.0 0.0 0.0 0.0 0.0 0.0 0.0 0.0 0.0 1.0 0.0 2006.0 359 41.49 29.02\n",
            "  3.77 8.46]]\n"
          ]
        }
      ]
    },
    {
      "cell_type": "code",
      "source": [
        "from sklearn.model_selection import train_test_split\n",
        "x_train, x_test, y_train, y_test = train_test_split(X,y,test_size = 0.2, random_state = 0)"
      ],
      "metadata": {
        "id": "DE-tJfHj8G9_"
      },
      "execution_count": 42,
      "outputs": []
    },
    {
      "cell_type": "markdown",
      "source": [
        "Data Augmentation and Preprocessing"
      ],
      "metadata": {
        "id": "93SrwXEF8UuA"
      }
    },
    {
      "cell_type": "code",
      "source": [
        "from sklearn.preprocessing import StandardScaler #importing StandardScaler function from sklearn.preprocessing directory\n",
        "sc = StandardScaler() # Declare variable 'sc' for the output of StandardScaler function\n",
        "X_train = sc.fit_transform(x_train) # x_train standardscaler transformation has done and save the output in X_train variable\n",
        "X_test = sc.transform(x_test) # x_test standardscaler transformation has done and save the output in X_test variable"
      ],
      "metadata": {
        "id": "SxdeZThC8Qch"
      },
      "execution_count": 43,
      "outputs": []
    },
    {
      "cell_type": "markdown",
      "source": [
        "Model Preparation and Evaluation"
      ],
      "metadata": {
        "id": "7T5_odLy8Xqr"
      }
    },
    {
      "cell_type": "code",
      "source": [
        "ann = tf.keras.models.Sequential()  # A sequential model to pass various ANN layers\n",
        "ann.add(tf.keras.layers.Dense(units=6, activation='relu')) # ANN Layer1 with 6 neurons/ hidden layers and activation function used here is \"ReLu\" Rectified Linear Unit\n",
        "ann.add(tf.keras.layers.Dense(units=6, activation='relu')) # ANN Layer2 with 6 neurons/ hidden layers and activation function used here is \"ReLu\"\n",
        "ann.add(tf.keras.layers.Dense(units=1, activation='sigmoid')) # Output layer with activation function as 'Sigmoid' for binary classification"
      ],
      "metadata": {
        "id": "5wPQqX_T8Qs7"
      },
      "execution_count": 44,
      "outputs": []
    },
    {
      "cell_type": "markdown",
      "source": [
        "Compile model"
      ],
      "metadata": {
        "id": "6SmFaSJx8iJp"
      }
    },
    {
      "cell_type": "code",
      "source": [
        "ann.compile(optimizer = 'adam',loss= 'binary_crossentropy', metrics = ['accuracy'])"
      ],
      "metadata": {
        "id": "asCQWzMh8h4q"
      },
      "execution_count": 45,
      "outputs": []
    },
    {
      "cell_type": "markdown",
      "source": [
        "Evaluation metrics for training accuracy determination with batch_size of 32 and No. of epochs"
      ],
      "metadata": {
        "id": "bxMHmUJe8rmX"
      }
    },
    {
      "cell_type": "code",
      "source": [
        "ann.fit(X_train, y_train, batch_size = 32, epochs = 100)"
      ],
      "metadata": {
        "colab": {
          "base_uri": "https://localhost:8080/"
        },
        "id": "cDQrhEf58hpF",
        "outputId": "9ad4c83d-0690-44c9-8532-0ffdb31a9de7"
      },
      "execution_count": 22,
      "outputs": [
        {
          "output_type": "stream",
          "name": "stdout",
          "text": [
            "Epoch 1/100\n",
            "415/415 [==============================] - 1s 1ms/step - loss: nan - accuracy: 0.0000e+00\n",
            "Epoch 2/100\n",
            "415/415 [==============================] - 0s 1ms/step - loss: nan - accuracy: 0.0000e+00\n",
            "Epoch 3/100\n",
            "415/415 [==============================] - 0s 1ms/step - loss: nan - accuracy: 0.0000e+00\n",
            "Epoch 4/100\n",
            "415/415 [==============================] - 0s 1ms/step - loss: nan - accuracy: 0.0000e+00\n",
            "Epoch 5/100\n",
            "415/415 [==============================] - 1s 1ms/step - loss: nan - accuracy: 0.0000e+00\n",
            "Epoch 6/100\n",
            "415/415 [==============================] - 1s 1ms/step - loss: nan - accuracy: 0.0000e+00\n",
            "Epoch 7/100\n",
            "415/415 [==============================] - 1s 1ms/step - loss: nan - accuracy: 0.0000e+00\n",
            "Epoch 8/100\n",
            "415/415 [==============================] - 0s 1ms/step - loss: nan - accuracy: 0.0000e+00\n",
            "Epoch 9/100\n",
            "415/415 [==============================] - 0s 1ms/step - loss: nan - accuracy: 0.0000e+00\n",
            "Epoch 10/100\n",
            "415/415 [==============================] - 0s 1ms/step - loss: nan - accuracy: 0.0000e+00\n",
            "Epoch 11/100\n",
            "415/415 [==============================] - 0s 1ms/step - loss: nan - accuracy: 0.0000e+00\n",
            "Epoch 12/100\n",
            "415/415 [==============================] - 0s 1ms/step - loss: nan - accuracy: 0.0000e+00\n",
            "Epoch 13/100\n",
            "415/415 [==============================] - 0s 1ms/step - loss: nan - accuracy: 0.0000e+00\n",
            "Epoch 14/100\n",
            "415/415 [==============================] - 0s 1ms/step - loss: nan - accuracy: 0.0000e+00\n",
            "Epoch 15/100\n",
            "415/415 [==============================] - 0s 1ms/step - loss: nan - accuracy: 0.0000e+00\n",
            "Epoch 16/100\n",
            "415/415 [==============================] - 0s 1ms/step - loss: nan - accuracy: 0.0000e+00\n",
            "Epoch 17/100\n",
            "415/415 [==============================] - 0s 1ms/step - loss: nan - accuracy: 0.0000e+00\n",
            "Epoch 18/100\n",
            "415/415 [==============================] - 0s 1ms/step - loss: nan - accuracy: 0.0000e+00\n",
            "Epoch 19/100\n",
            "415/415 [==============================] - 0s 1ms/step - loss: nan - accuracy: 0.0000e+00\n",
            "Epoch 20/100\n",
            "415/415 [==============================] - 0s 1ms/step - loss: nan - accuracy: 0.0000e+00\n",
            "Epoch 21/100\n",
            "415/415 [==============================] - 0s 1ms/step - loss: nan - accuracy: 0.0000e+00\n",
            "Epoch 22/100\n",
            "415/415 [==============================] - 0s 1ms/step - loss: nan - accuracy: 0.0000e+00\n",
            "Epoch 23/100\n",
            "415/415 [==============================] - 0s 1ms/step - loss: nan - accuracy: 0.0000e+00\n",
            "Epoch 24/100\n",
            "415/415 [==============================] - 0s 1ms/step - loss: nan - accuracy: 0.0000e+00\n",
            "Epoch 25/100\n",
            "415/415 [==============================] - 0s 1ms/step - loss: nan - accuracy: 0.0000e+00\n",
            "Epoch 26/100\n",
            "415/415 [==============================] - 0s 1ms/step - loss: nan - accuracy: 0.0000e+00\n",
            "Epoch 27/100\n",
            "415/415 [==============================] - 0s 1ms/step - loss: nan - accuracy: 0.0000e+00\n",
            "Epoch 28/100\n",
            "415/415 [==============================] - 0s 1ms/step - loss: nan - accuracy: 0.0000e+00\n",
            "Epoch 29/100\n",
            "415/415 [==============================] - 0s 1ms/step - loss: nan - accuracy: 0.0000e+00\n",
            "Epoch 30/100\n",
            "415/415 [==============================] - 0s 1ms/step - loss: nan - accuracy: 0.0000e+00\n",
            "Epoch 31/100\n",
            "415/415 [==============================] - 1s 2ms/step - loss: nan - accuracy: 0.0000e+00\n",
            "Epoch 32/100\n",
            "415/415 [==============================] - 0s 1ms/step - loss: nan - accuracy: 0.0000e+00\n",
            "Epoch 33/100\n",
            "415/415 [==============================] - 0s 1ms/step - loss: nan - accuracy: 0.0000e+00\n",
            "Epoch 34/100\n",
            "415/415 [==============================] - 0s 1ms/step - loss: nan - accuracy: 0.0000e+00\n",
            "Epoch 35/100\n",
            "415/415 [==============================] - 0s 1ms/step - loss: nan - accuracy: 0.0000e+00\n",
            "Epoch 36/100\n",
            "415/415 [==============================] - 0s 1ms/step - loss: nan - accuracy: 0.0000e+00\n",
            "Epoch 37/100\n",
            "415/415 [==============================] - 0s 1ms/step - loss: nan - accuracy: 0.0000e+00\n",
            "Epoch 38/100\n",
            "415/415 [==============================] - 1s 1ms/step - loss: nan - accuracy: 0.0000e+00\n",
            "Epoch 39/100\n",
            "415/415 [==============================] - 0s 1ms/step - loss: nan - accuracy: 0.0000e+00\n",
            "Epoch 40/100\n",
            "415/415 [==============================] - 0s 1ms/step - loss: nan - accuracy: 0.0000e+00\n",
            "Epoch 41/100\n",
            "415/415 [==============================] - 0s 1ms/step - loss: nan - accuracy: 0.0000e+00\n",
            "Epoch 42/100\n",
            "415/415 [==============================] - 0s 1ms/step - loss: nan - accuracy: 0.0000e+00\n",
            "Epoch 43/100\n",
            "415/415 [==============================] - 0s 1ms/step - loss: nan - accuracy: 0.0000e+00\n",
            "Epoch 44/100\n",
            "415/415 [==============================] - 0s 1ms/step - loss: nan - accuracy: 0.0000e+00\n",
            "Epoch 45/100\n",
            "415/415 [==============================] - 0s 1ms/step - loss: nan - accuracy: 0.0000e+00\n",
            "Epoch 46/100\n",
            "415/415 [==============================] - 0s 1ms/step - loss: nan - accuracy: 0.0000e+00\n",
            "Epoch 47/100\n",
            "415/415 [==============================] - 0s 1ms/step - loss: nan - accuracy: 0.0000e+00\n",
            "Epoch 48/100\n",
            "415/415 [==============================] - 0s 1ms/step - loss: nan - accuracy: 0.0000e+00\n",
            "Epoch 49/100\n",
            "415/415 [==============================] - 0s 1ms/step - loss: nan - accuracy: 0.0000e+00\n",
            "Epoch 50/100\n",
            "415/415 [==============================] - 0s 1ms/step - loss: nan - accuracy: 0.0000e+00\n",
            "Epoch 51/100\n",
            "415/415 [==============================] - 0s 1ms/step - loss: nan - accuracy: 0.0000e+00\n",
            "Epoch 52/100\n",
            "415/415 [==============================] - 0s 1ms/step - loss: nan - accuracy: 0.0000e+00\n",
            "Epoch 53/100\n",
            "415/415 [==============================] - 0s 1ms/step - loss: nan - accuracy: 0.0000e+00\n",
            "Epoch 54/100\n",
            "415/415 [==============================] - 0s 1ms/step - loss: nan - accuracy: 0.0000e+00\n",
            "Epoch 55/100\n",
            "415/415 [==============================] - 0s 1ms/step - loss: nan - accuracy: 0.0000e+00\n",
            "Epoch 56/100\n",
            "415/415 [==============================] - 0s 1ms/step - loss: nan - accuracy: 0.0000e+00\n",
            "Epoch 57/100\n",
            "415/415 [==============================] - 0s 1ms/step - loss: nan - accuracy: 0.0000e+00\n",
            "Epoch 58/100\n",
            "415/415 [==============================] - 0s 1ms/step - loss: nan - accuracy: 0.0000e+00\n",
            "Epoch 59/100\n",
            "415/415 [==============================] - 0s 1ms/step - loss: nan - accuracy: 0.0000e+00\n",
            "Epoch 60/100\n",
            "415/415 [==============================] - 1s 1ms/step - loss: nan - accuracy: 0.0000e+00\n",
            "Epoch 61/100\n",
            "415/415 [==============================] - 0s 1ms/step - loss: nan - accuracy: 0.0000e+00\n",
            "Epoch 62/100\n",
            "415/415 [==============================] - 0s 1ms/step - loss: nan - accuracy: 0.0000e+00\n",
            "Epoch 63/100\n",
            "415/415 [==============================] - 0s 1ms/step - loss: nan - accuracy: 0.0000e+00\n",
            "Epoch 64/100\n",
            "415/415 [==============================] - 0s 1ms/step - loss: nan - accuracy: 0.0000e+00\n",
            "Epoch 65/100\n",
            "415/415 [==============================] - 0s 1ms/step - loss: nan - accuracy: 0.0000e+00\n",
            "Epoch 66/100\n",
            "415/415 [==============================] - 0s 1ms/step - loss: nan - accuracy: 0.0000e+00\n",
            "Epoch 67/100\n",
            "415/415 [==============================] - 0s 1ms/step - loss: nan - accuracy: 0.0000e+00\n",
            "Epoch 68/100\n",
            "415/415 [==============================] - 0s 1ms/step - loss: nan - accuracy: 0.0000e+00\n",
            "Epoch 69/100\n",
            "415/415 [==============================] - 0s 1ms/step - loss: nan - accuracy: 0.0000e+00\n",
            "Epoch 70/100\n",
            "415/415 [==============================] - 0s 1ms/step - loss: nan - accuracy: 0.0000e+00\n",
            "Epoch 71/100\n",
            "415/415 [==============================] - 0s 1ms/step - loss: nan - accuracy: 0.0000e+00\n",
            "Epoch 72/100\n",
            "415/415 [==============================] - 0s 1ms/step - loss: nan - accuracy: 0.0000e+00\n",
            "Epoch 73/100\n",
            "415/415 [==============================] - 0s 1ms/step - loss: nan - accuracy: 0.0000e+00\n",
            "Epoch 74/100\n",
            "415/415 [==============================] - 0s 1ms/step - loss: nan - accuracy: 0.0000e+00\n",
            "Epoch 75/100\n",
            "415/415 [==============================] - 0s 1ms/step - loss: nan - accuracy: 0.0000e+00\n",
            "Epoch 76/100\n",
            "415/415 [==============================] - 0s 1ms/step - loss: nan - accuracy: 0.0000e+00\n",
            "Epoch 77/100\n",
            "415/415 [==============================] - 0s 1ms/step - loss: nan - accuracy: 0.0000e+00\n",
            "Epoch 78/100\n",
            "415/415 [==============================] - 0s 1ms/step - loss: nan - accuracy: 0.0000e+00\n",
            "Epoch 79/100\n",
            "415/415 [==============================] - 0s 1ms/step - loss: nan - accuracy: 0.0000e+00\n",
            "Epoch 80/100\n",
            "415/415 [==============================] - 0s 1ms/step - loss: nan - accuracy: 0.0000e+00\n",
            "Epoch 81/100\n",
            "415/415 [==============================] - 0s 1ms/step - loss: nan - accuracy: 0.0000e+00\n",
            "Epoch 82/100\n",
            "415/415 [==============================] - 0s 1ms/step - loss: nan - accuracy: 0.0000e+00\n",
            "Epoch 83/100\n",
            "415/415 [==============================] - 0s 1ms/step - loss: nan - accuracy: 0.0000e+00\n",
            "Epoch 84/100\n",
            "415/415 [==============================] - 0s 1ms/step - loss: nan - accuracy: 0.0000e+00\n",
            "Epoch 85/100\n",
            "415/415 [==============================] - 0s 1ms/step - loss: nan - accuracy: 0.0000e+00\n",
            "Epoch 86/100\n",
            "415/415 [==============================] - 0s 1ms/step - loss: nan - accuracy: 0.0000e+00\n",
            "Epoch 87/100\n",
            "415/415 [==============================] - 0s 1ms/step - loss: nan - accuracy: 0.0000e+00\n",
            "Epoch 88/100\n",
            "415/415 [==============================] - 0s 1ms/step - loss: nan - accuracy: 0.0000e+00\n",
            "Epoch 89/100\n",
            "415/415 [==============================] - 0s 1ms/step - loss: nan - accuracy: 0.0000e+00\n",
            "Epoch 90/100\n",
            "415/415 [==============================] - 0s 1ms/step - loss: nan - accuracy: 0.0000e+00\n",
            "Epoch 91/100\n",
            "415/415 [==============================] - 0s 1ms/step - loss: nan - accuracy: 0.0000e+00\n",
            "Epoch 92/100\n",
            "415/415 [==============================] - 0s 1ms/step - loss: nan - accuracy: 0.0000e+00\n",
            "Epoch 93/100\n",
            "415/415 [==============================] - 0s 1ms/step - loss: nan - accuracy: 0.0000e+00\n",
            "Epoch 94/100\n",
            "415/415 [==============================] - 0s 1ms/step - loss: nan - accuracy: 0.0000e+00\n",
            "Epoch 95/100\n",
            "415/415 [==============================] - 0s 1ms/step - loss: nan - accuracy: 0.0000e+00\n",
            "Epoch 96/100\n",
            "415/415 [==============================] - 0s 1ms/step - loss: nan - accuracy: 0.0000e+00\n",
            "Epoch 97/100\n",
            "415/415 [==============================] - 0s 1ms/step - loss: nan - accuracy: 0.0000e+00\n",
            "Epoch 98/100\n",
            "415/415 [==============================] - 0s 1ms/step - loss: nan - accuracy: 0.0000e+00\n",
            "Epoch 99/100\n",
            "415/415 [==============================] - 0s 1ms/step - loss: nan - accuracy: 0.0000e+00\n",
            "Epoch 100/100\n",
            "415/415 [==============================] - 0s 1ms/step - loss: nan - accuracy: 0.0000e+00\n"
          ]
        },
        {
          "output_type": "execute_result",
          "data": {
            "text/plain": [
              "<keras.callbacks.History at 0x7f9c337c49d0>"
            ]
          },
          "metadata": {},
          "execution_count": 22
        }
      ]
    },
    {
      "cell_type": "code",
      "source": [
        "ann.fit(X_train, y_train, batch_size = 32, epochs = 60)"
      ],
      "metadata": {
        "colab": {
          "base_uri": "https://localhost:8080/"
        },
        "id": "BEAzFBlt8fK6",
        "outputId": "219c9d21-694f-49c4-ee3b-338cf8dcef5e"
      },
      "execution_count": 23,
      "outputs": [
        {
          "output_type": "stream",
          "name": "stdout",
          "text": [
            "Epoch 1/60\n",
            "415/415 [==============================] - 0s 1ms/step - loss: nan - accuracy: 0.0000e+00\n",
            "Epoch 2/60\n",
            "415/415 [==============================] - 0s 1ms/step - loss: nan - accuracy: 0.0000e+00\n",
            "Epoch 3/60\n",
            "415/415 [==============================] - 0s 1ms/step - loss: nan - accuracy: 0.0000e+00\n",
            "Epoch 4/60\n",
            "415/415 [==============================] - 0s 1ms/step - loss: nan - accuracy: 0.0000e+00\n",
            "Epoch 5/60\n",
            "415/415 [==============================] - 0s 1ms/step - loss: nan - accuracy: 0.0000e+00\n",
            "Epoch 6/60\n",
            "415/415 [==============================] - 0s 1ms/step - loss: nan - accuracy: 0.0000e+00\n",
            "Epoch 7/60\n",
            "415/415 [==============================] - 0s 1ms/step - loss: nan - accuracy: 0.0000e+00\n",
            "Epoch 8/60\n",
            "415/415 [==============================] - 0s 1ms/step - loss: nan - accuracy: 0.0000e+00\n",
            "Epoch 9/60\n",
            "415/415 [==============================] - 0s 1ms/step - loss: nan - accuracy: 0.0000e+00\n",
            "Epoch 10/60\n",
            "415/415 [==============================] - 0s 1ms/step - loss: nan - accuracy: 0.0000e+00\n",
            "Epoch 11/60\n",
            "415/415 [==============================] - 0s 1ms/step - loss: nan - accuracy: 0.0000e+00\n",
            "Epoch 12/60\n",
            "415/415 [==============================] - 0s 1ms/step - loss: nan - accuracy: 0.0000e+00\n",
            "Epoch 13/60\n",
            "415/415 [==============================] - 0s 1ms/step - loss: nan - accuracy: 0.0000e+00\n",
            "Epoch 14/60\n",
            "415/415 [==============================] - 0s 1ms/step - loss: nan - accuracy: 0.0000e+00\n",
            "Epoch 15/60\n",
            "415/415 [==============================] - 0s 1ms/step - loss: nan - accuracy: 0.0000e+00\n",
            "Epoch 16/60\n",
            "415/415 [==============================] - 0s 1ms/step - loss: nan - accuracy: 0.0000e+00\n",
            "Epoch 17/60\n",
            "415/415 [==============================] - 0s 1ms/step - loss: nan - accuracy: 0.0000e+00\n",
            "Epoch 18/60\n",
            "415/415 [==============================] - 0s 1ms/step - loss: nan - accuracy: 0.0000e+00\n",
            "Epoch 19/60\n",
            "415/415 [==============================] - 0s 1ms/step - loss: nan - accuracy: 0.0000e+00\n",
            "Epoch 20/60\n",
            "415/415 [==============================] - 0s 1ms/step - loss: nan - accuracy: 0.0000e+00\n",
            "Epoch 21/60\n",
            "415/415 [==============================] - 0s 1ms/step - loss: nan - accuracy: 0.0000e+00\n",
            "Epoch 22/60\n",
            "415/415 [==============================] - 0s 1ms/step - loss: nan - accuracy: 0.0000e+00\n",
            "Epoch 23/60\n",
            "415/415 [==============================] - 0s 1ms/step - loss: nan - accuracy: 0.0000e+00\n",
            "Epoch 24/60\n",
            "415/415 [==============================] - 0s 1ms/step - loss: nan - accuracy: 0.0000e+00\n",
            "Epoch 25/60\n",
            "415/415 [==============================] - 0s 1ms/step - loss: nan - accuracy: 0.0000e+00\n",
            "Epoch 26/60\n",
            "415/415 [==============================] - 0s 1ms/step - loss: nan - accuracy: 0.0000e+00\n",
            "Epoch 27/60\n",
            "415/415 [==============================] - 0s 1ms/step - loss: nan - accuracy: 0.0000e+00\n",
            "Epoch 28/60\n",
            "415/415 [==============================] - 0s 1ms/step - loss: nan - accuracy: 0.0000e+00\n",
            "Epoch 29/60\n",
            "415/415 [==============================] - 0s 1ms/step - loss: nan - accuracy: 0.0000e+00\n",
            "Epoch 30/60\n",
            "415/415 [==============================] - 0s 1ms/step - loss: nan - accuracy: 0.0000e+00\n",
            "Epoch 31/60\n",
            "415/415 [==============================] - 0s 1ms/step - loss: nan - accuracy: 0.0000e+00\n",
            "Epoch 32/60\n",
            "415/415 [==============================] - 0s 1ms/step - loss: nan - accuracy: 0.0000e+00\n",
            "Epoch 33/60\n",
            "415/415 [==============================] - 0s 1ms/step - loss: nan - accuracy: 0.0000e+00\n",
            "Epoch 34/60\n",
            "415/415 [==============================] - 0s 1ms/step - loss: nan - accuracy: 0.0000e+00\n",
            "Epoch 35/60\n",
            "415/415 [==============================] - 0s 1ms/step - loss: nan - accuracy: 0.0000e+00\n",
            "Epoch 36/60\n",
            "415/415 [==============================] - 0s 1ms/step - loss: nan - accuracy: 0.0000e+00\n",
            "Epoch 37/60\n",
            "415/415 [==============================] - 0s 1ms/step - loss: nan - accuracy: 0.0000e+00\n",
            "Epoch 38/60\n",
            "415/415 [==============================] - 0s 1ms/step - loss: nan - accuracy: 0.0000e+00\n",
            "Epoch 39/60\n",
            "415/415 [==============================] - 0s 1ms/step - loss: nan - accuracy: 0.0000e+00\n",
            "Epoch 40/60\n",
            "415/415 [==============================] - 0s 1ms/step - loss: nan - accuracy: 0.0000e+00\n",
            "Epoch 41/60\n",
            "415/415 [==============================] - 0s 1ms/step - loss: nan - accuracy: 0.0000e+00\n",
            "Epoch 42/60\n",
            "415/415 [==============================] - 0s 1ms/step - loss: nan - accuracy: 0.0000e+00\n",
            "Epoch 43/60\n",
            "415/415 [==============================] - 0s 1ms/step - loss: nan - accuracy: 0.0000e+00\n",
            "Epoch 44/60\n",
            "415/415 [==============================] - 0s 1ms/step - loss: nan - accuracy: 0.0000e+00\n",
            "Epoch 45/60\n",
            "415/415 [==============================] - 0s 1ms/step - loss: nan - accuracy: 0.0000e+00\n",
            "Epoch 46/60\n",
            "415/415 [==============================] - 0s 1ms/step - loss: nan - accuracy: 0.0000e+00\n",
            "Epoch 47/60\n",
            "415/415 [==============================] - 0s 1ms/step - loss: nan - accuracy: 0.0000e+00\n",
            "Epoch 48/60\n",
            "415/415 [==============================] - 0s 1ms/step - loss: nan - accuracy: 0.0000e+00\n",
            "Epoch 49/60\n",
            "415/415 [==============================] - 0s 1ms/step - loss: nan - accuracy: 0.0000e+00\n",
            "Epoch 50/60\n",
            "415/415 [==============================] - 0s 1ms/step - loss: nan - accuracy: 0.0000e+00\n",
            "Epoch 51/60\n",
            "415/415 [==============================] - 0s 1ms/step - loss: nan - accuracy: 0.0000e+00\n",
            "Epoch 52/60\n",
            "415/415 [==============================] - 0s 1ms/step - loss: nan - accuracy: 0.0000e+00\n",
            "Epoch 53/60\n",
            "415/415 [==============================] - 0s 1ms/step - loss: nan - accuracy: 0.0000e+00\n",
            "Epoch 54/60\n",
            "415/415 [==============================] - 0s 1ms/step - loss: nan - accuracy: 0.0000e+00\n",
            "Epoch 55/60\n",
            "415/415 [==============================] - 1s 2ms/step - loss: nan - accuracy: 0.0000e+00\n",
            "Epoch 56/60\n",
            "415/415 [==============================] - 1s 2ms/step - loss: nan - accuracy: 0.0000e+00\n",
            "Epoch 57/60\n",
            "415/415 [==============================] - 1s 2ms/step - loss: nan - accuracy: 0.0000e+00\n",
            "Epoch 58/60\n",
            "415/415 [==============================] - 0s 1ms/step - loss: nan - accuracy: 0.0000e+00\n",
            "Epoch 59/60\n",
            "415/415 [==============================] - 0s 1ms/step - loss: nan - accuracy: 0.0000e+00\n",
            "Epoch 60/60\n",
            "415/415 [==============================] - 0s 1ms/step - loss: nan - accuracy: 0.0000e+00\n"
          ]
        },
        {
          "output_type": "execute_result",
          "data": {
            "text/plain": [
              "<keras.callbacks.History at 0x7f9c2ffc49d0>"
            ]
          },
          "metadata": {},
          "execution_count": 23
        }
      ]
    },
    {
      "cell_type": "code",
      "source": [
        "ann.summary()"
      ],
      "metadata": {
        "colab": {
          "base_uri": "https://localhost:8080/"
        },
        "id": "LHsbj_4J9AlA",
        "outputId": "938cd066-71a6-4cab-815d-28195acd6f0a"
      },
      "execution_count": 24,
      "outputs": [
        {
          "output_type": "stream",
          "name": "stdout",
          "text": [
            "Model: \"sequential\"\n",
            "_________________________________________________________________\n",
            " Layer (type)                Output Shape              Param #   \n",
            "=================================================================\n",
            " dense (Dense)               (None, 6)                 114       \n",
            "                                                                 \n",
            " dense_1 (Dense)             (None, 6)                 42        \n",
            "                                                                 \n",
            " dense_2 (Dense)             (None, 1)                 7         \n",
            "                                                                 \n",
            "=================================================================\n",
            "Total params: 163\n",
            "Trainable params: 163\n",
            "Non-trainable params: 0\n",
            "_________________________________________________________________\n"
          ]
        }
      ]
    },
    {
      "cell_type": "code",
      "source": [
        "print(ann.predict(sc.transform([[1, 2006, 0, 9, 11, 0, 2, 60000, 2, 1, 1,3,2, 50000,1,0,1,1]]))>0.5)"
      ],
      "metadata": {
        "colab": {
          "base_uri": "https://localhost:8080/"
        },
        "id": "Wvhn-j5W_if0",
        "outputId": "69da6364-2e3b-4651-894a-bf17067ab7c9"
      },
      "execution_count": 52,
      "outputs": [
        {
          "output_type": "stream",
          "name": "stdout",
          "text": [
            "[[False]]\n"
          ]
        }
      ]
    },
    {
      "cell_type": "code",
      "source": [
        "y_pred = ann.predict(X_test) # ANN Prediction for x_test for test data \n",
        "y_pred = (y_pred > 0.5) # Fixing threshold condition as 0.5 to predict the result.\n",
        "print(np.concatenate((y_pred.reshape(len(y_pred),1), y_test.reshape(len(y_test),1)),1)) "
      ],
      "metadata": {
        "colab": {
          "base_uri": "https://localhost:8080/"
        },
        "id": "2y1W1G_T-f74",
        "outputId": "487b395a-1327-405b-8166-109336729da3"
      },
      "execution_count": 53,
      "outputs": [
        {
          "output_type": "stream",
          "name": "stdout",
          "text": [
            "[[1. 0.]\n",
            " [0. 1.]\n",
            " [0. 0.]\n",
            " ...\n",
            " [0. 0.]\n",
            " [0. 0.]\n",
            " [1. 1.]]\n"
          ]
        }
      ]
    }
  ]
}